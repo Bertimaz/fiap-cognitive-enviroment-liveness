{
  "cells": [
    {
      "cell_type": "code",
      "execution_count": null,
      "metadata": {
        "colab": {
          "base_uri": "https://localhost:8080/"
        },
        "id": "Fsrith0ggHQP",
        "outputId": "283e16c1-95b7-4300-c106-2939600eac02"
      },
      "outputs": [
        {
          "name": "stdout",
          "output_type": "stream",
          "text": [
            "Drive already mounted at /content/drive; to attempt to forcibly remount, call drive.mount(\"/content/drive\", force_remount=True).\n"
          ]
        }
      ],
      "source": []
    },
    {
      "cell_type": "code",
      "execution_count": null,
      "metadata": {
        "id": "2fMvamvXfiO1"
      },
      "outputs": [],
      "source": [
        "# !pip install boto3"
      ]
    },
    {
      "cell_type": "code",
      "execution_count": 2,
      "metadata": {
        "id": "AiFkx1ABdA9V"
      },
      "outputs": [],
      "source": [
        "import boto3\n",
        "import sys\n",
        "import config\n"
      ]
    },
    {
      "cell_type": "code",
      "execution_count": null,
      "metadata": {
        "id": "kA1rHEn6fWKK"
      },
      "outputs": [],
      "source": [
        "aws_access_key_id=config.aws_access_key_id\n",
        "aws_secret_access_key=config.aws_secret_access_key\n",
        "session=boto3.Session(aws_access_key_id=aws_access_key_id,aws_secret_access_key=aws_secret_access_key)\n",
        "\n"
      ]
    },
    {
      "cell_type": "code",
      "execution_count": null,
      "metadata": {
        "id": "qhYwPvEpnEVL"
      },
      "outputs": [],
      "source": [
        "#aBRINDO CLINETE\n",
        "client=session.client('rekognition',region_name='us-east-2')"
      ]
    },
    {
      "cell_type": "code",
      "execution_count": null,
      "metadata": {
        "colab": {
          "base_uri": "https://localhost:8080/",
          "height": 331
        },
        "id": "silJOw_ak2SP",
        "outputId": "e478e31e-9db1-4281-f68d-7bb6d7ef6501"
      },
      "outputs": [
        {
          "ename": "ResourceAlreadyExistsException",
          "evalue": "An error occurred (ResourceAlreadyExistsException) when calling the CreateCollection operation: The collection id: user-faces already exists",
          "output_type": "error",
          "traceback": [
            "\u001b[0;31m---------------------------------------------------------------------------\u001b[0m",
            "\u001b[0;31mResourceAlreadyExistsException\u001b[0m            Traceback (most recent call last)",
            "\u001b[0;32m<ipython-input-6-3424cca5ea5b>\u001b[0m in \u001b[0;36m<cell line: 2>\u001b[0;34m()\u001b[0m\n\u001b[1;32m      1\u001b[0m \u001b[0;31m#Criando um coleção\u001b[0m\u001b[0;34m\u001b[0m\u001b[0;34m\u001b[0m\u001b[0m\n\u001b[0;32m----> 2\u001b[0;31m \u001b[0mresponse\u001b[0m\u001b[0;34m=\u001b[0m\u001b[0mclient\u001b[0m\u001b[0;34m.\u001b[0m\u001b[0mcreate_collection\u001b[0m\u001b[0;34m(\u001b[0m\u001b[0mCollectionId\u001b[0m\u001b[0;34m=\u001b[0m\u001b[0;34m'user-faces'\u001b[0m\u001b[0;34m)\u001b[0m\u001b[0;34m\u001b[0m\u001b[0;34m\u001b[0m\u001b[0m\n\u001b[0m",
            "\u001b[0;32m/usr/local/lib/python3.10/dist-packages/botocore/client.py\u001b[0m in \u001b[0;36m_api_call\u001b[0;34m(self, *args, **kwargs)\u001b[0m\n\u001b[1;32m    551\u001b[0m                 )\n\u001b[1;32m    552\u001b[0m             \u001b[0;31m# The \"self\" in this scope is referring to the BaseClient.\u001b[0m\u001b[0;34m\u001b[0m\u001b[0;34m\u001b[0m\u001b[0m\n\u001b[0;32m--> 553\u001b[0;31m             \u001b[0;32mreturn\u001b[0m \u001b[0mself\u001b[0m\u001b[0;34m.\u001b[0m\u001b[0m_make_api_call\u001b[0m\u001b[0;34m(\u001b[0m\u001b[0moperation_name\u001b[0m\u001b[0;34m,\u001b[0m \u001b[0mkwargs\u001b[0m\u001b[0;34m)\u001b[0m\u001b[0;34m\u001b[0m\u001b[0;34m\u001b[0m\u001b[0m\n\u001b[0m\u001b[1;32m    554\u001b[0m \u001b[0;34m\u001b[0m\u001b[0m\n\u001b[1;32m    555\u001b[0m         \u001b[0m_api_call\u001b[0m\u001b[0;34m.\u001b[0m\u001b[0m__name__\u001b[0m \u001b[0;34m=\u001b[0m \u001b[0mstr\u001b[0m\u001b[0;34m(\u001b[0m\u001b[0mpy_operation_name\u001b[0m\u001b[0;34m)\u001b[0m\u001b[0;34m\u001b[0m\u001b[0;34m\u001b[0m\u001b[0m\n",
            "\u001b[0;32m/usr/local/lib/python3.10/dist-packages/botocore/client.py\u001b[0m in \u001b[0;36m_make_api_call\u001b[0;34m(self, operation_name, api_params)\u001b[0m\n\u001b[1;32m   1007\u001b[0m             )\n\u001b[1;32m   1008\u001b[0m             \u001b[0merror_class\u001b[0m \u001b[0;34m=\u001b[0m \u001b[0mself\u001b[0m\u001b[0;34m.\u001b[0m\u001b[0mexceptions\u001b[0m\u001b[0;34m.\u001b[0m\u001b[0mfrom_code\u001b[0m\u001b[0;34m(\u001b[0m\u001b[0merror_code\u001b[0m\u001b[0;34m)\u001b[0m\u001b[0;34m\u001b[0m\u001b[0;34m\u001b[0m\u001b[0m\n\u001b[0;32m-> 1009\u001b[0;31m             \u001b[0;32mraise\u001b[0m \u001b[0merror_class\u001b[0m\u001b[0;34m(\u001b[0m\u001b[0mparsed_response\u001b[0m\u001b[0;34m,\u001b[0m \u001b[0moperation_name\u001b[0m\u001b[0;34m)\u001b[0m\u001b[0;34m\u001b[0m\u001b[0;34m\u001b[0m\u001b[0m\n\u001b[0m\u001b[1;32m   1010\u001b[0m         \u001b[0;32melse\u001b[0m\u001b[0;34m:\u001b[0m\u001b[0;34m\u001b[0m\u001b[0;34m\u001b[0m\u001b[0m\n\u001b[1;32m   1011\u001b[0m             \u001b[0;32mreturn\u001b[0m \u001b[0mparsed_response\u001b[0m\u001b[0;34m\u001b[0m\u001b[0;34m\u001b[0m\u001b[0m\n",
            "\u001b[0;31mResourceAlreadyExistsException\u001b[0m: An error occurred (ResourceAlreadyExistsException) when calling the CreateCollection operation: The collection id: user-faces already exists"
          ]
        }
      ],
      "source": [
        "#Criando um coleção\n",
        "response=client.create_collection(CollectionId='user-faces')\n"
      ]
    },
    {
      "cell_type": "code",
      "execution_count": null,
      "metadata": {
        "colab": {
          "base_uri": "https://localhost:8080/",
          "height": 313
        },
        "id": "osztyCGaq9J_",
        "outputId": "00820106-8e95-4eff-af94-50edb648d743"
      },
      "outputs": [
        {
          "ename": "InvalidParameterException",
          "evalue": "An error occurred (InvalidParameterException) when calling the CreateUser operation: Request has invalid parameters",
          "output_type": "error",
          "traceback": [
            "\u001b[0;31m---------------------------------------------------------------------------\u001b[0m",
            "\u001b[0;31mInvalidParameterException\u001b[0m                 Traceback (most recent call last)",
            "\u001b[0;32m<ipython-input-7-db5e45fc0c8e>\u001b[0m in \u001b[0;36m<cell line: 2>\u001b[0;34m()\u001b[0m\n\u001b[1;32m      1\u001b[0m \u001b[0;31m#Criando nova pessoas\u001b[0m\u001b[0;34m\u001b[0m\u001b[0;34m\u001b[0m\u001b[0m\n\u001b[0;32m----> 2\u001b[0;31m \u001b[0mresponse\u001b[0m\u001b[0;34m=\u001b[0m\u001b[0mclient\u001b[0m\u001b[0;34m.\u001b[0m\u001b[0mcreate_user\u001b[0m\u001b[0;34m(\u001b[0m\u001b[0mCollectionId\u001b[0m\u001b[0;34m=\u001b[0m\u001b[0;34m'user-faces'\u001b[0m\u001b[0;34m,\u001b[0m\u001b[0mUserId\u001b[0m\u001b[0;34m=\u001b[0m\u001b[0;34m'nicolas-cage'\u001b[0m\u001b[0;34m)\u001b[0m\u001b[0;34m\u001b[0m\u001b[0;34m\u001b[0m\u001b[0m\n\u001b[0m",
            "\u001b[0;32m/usr/local/lib/python3.10/dist-packages/botocore/client.py\u001b[0m in \u001b[0;36m_api_call\u001b[0;34m(self, *args, **kwargs)\u001b[0m\n\u001b[1;32m    551\u001b[0m                 )\n\u001b[1;32m    552\u001b[0m             \u001b[0;31m# The \"self\" in this scope is referring to the BaseClient.\u001b[0m\u001b[0;34m\u001b[0m\u001b[0;34m\u001b[0m\u001b[0m\n\u001b[0;32m--> 553\u001b[0;31m             \u001b[0;32mreturn\u001b[0m \u001b[0mself\u001b[0m\u001b[0;34m.\u001b[0m\u001b[0m_make_api_call\u001b[0m\u001b[0;34m(\u001b[0m\u001b[0moperation_name\u001b[0m\u001b[0;34m,\u001b[0m \u001b[0mkwargs\u001b[0m\u001b[0;34m)\u001b[0m\u001b[0;34m\u001b[0m\u001b[0;34m\u001b[0m\u001b[0m\n\u001b[0m\u001b[1;32m    554\u001b[0m \u001b[0;34m\u001b[0m\u001b[0m\n\u001b[1;32m    555\u001b[0m         \u001b[0m_api_call\u001b[0m\u001b[0;34m.\u001b[0m\u001b[0m__name__\u001b[0m \u001b[0;34m=\u001b[0m \u001b[0mstr\u001b[0m\u001b[0;34m(\u001b[0m\u001b[0mpy_operation_name\u001b[0m\u001b[0;34m)\u001b[0m\u001b[0;34m\u001b[0m\u001b[0;34m\u001b[0m\u001b[0m\n",
            "\u001b[0;32m/usr/local/lib/python3.10/dist-packages/botocore/client.py\u001b[0m in \u001b[0;36m_make_api_call\u001b[0;34m(self, operation_name, api_params)\u001b[0m\n\u001b[1;32m   1007\u001b[0m             )\n\u001b[1;32m   1008\u001b[0m             \u001b[0merror_class\u001b[0m \u001b[0;34m=\u001b[0m \u001b[0mself\u001b[0m\u001b[0;34m.\u001b[0m\u001b[0mexceptions\u001b[0m\u001b[0;34m.\u001b[0m\u001b[0mfrom_code\u001b[0m\u001b[0;34m(\u001b[0m\u001b[0merror_code\u001b[0m\u001b[0;34m)\u001b[0m\u001b[0;34m\u001b[0m\u001b[0;34m\u001b[0m\u001b[0m\n\u001b[0;32m-> 1009\u001b[0;31m             \u001b[0;32mraise\u001b[0m \u001b[0merror_class\u001b[0m\u001b[0;34m(\u001b[0m\u001b[0mparsed_response\u001b[0m\u001b[0;34m,\u001b[0m \u001b[0moperation_name\u001b[0m\u001b[0;34m)\u001b[0m\u001b[0;34m\u001b[0m\u001b[0;34m\u001b[0m\u001b[0m\n\u001b[0m\u001b[1;32m   1010\u001b[0m         \u001b[0;32melse\u001b[0m\u001b[0;34m:\u001b[0m\u001b[0;34m\u001b[0m\u001b[0;34m\u001b[0m\u001b[0m\n\u001b[1;32m   1011\u001b[0m             \u001b[0;32mreturn\u001b[0m \u001b[0mparsed_response\u001b[0m\u001b[0;34m\u001b[0m\u001b[0;34m\u001b[0m\u001b[0m\n",
            "\u001b[0;31mInvalidParameterException\u001b[0m: An error occurred (InvalidParameterException) when calling the CreateUser operation: Request has invalid parameters"
          ]
        }
      ],
      "source": [
        "#Criando nova pessoas\n",
        "response=client.create_user(CollectionId='user-faces',UserId='nicolas-cage')"
      ]
    },
    {
      "cell_type": "code",
      "execution_count": null,
      "metadata": {
        "colab": {
          "base_uri": "https://localhost:8080/"
        },
        "id": "NUyMDWrprFUp",
        "outputId": "c6b4ce67-6902-4f96-d5e2-8a3b7cf70eed"
      },
      "outputs": [
        {
          "data": {
            "text/plain": [
              "['287842e2-b689-49af-bb06-8120c22fcc91',\n",
              " '0b7b78da-c9b5-41ac-950d-adb0397691cb',\n",
              " 'efea902b-bb70-4909-8cfd-a0c5f59ad6c8']"
            ]
          },
          "execution_count": 8,
          "metadata": {},
          "output_type": "execute_result"
        }
      ],
      "source": [
        "##nome do bucket\n",
        "bucket_name='fiap-cognitive-enviroments'\n",
        "#Lista de face Ids\n",
        "faceIds=[]\n",
        "for n in range(1,4):\n",
        "  if n==1:\n",
        "    image_type='jpg'\n",
        "  else:\n",
        "    image_type='png'\n",
        "  file_name=f'nic{n}.{image_type}'\n",
        "  response=client.index_faces(CollectionId='user-faces',\n",
        "                               Image={\n",
        "                                   'S3Object':{\n",
        "                                       'Bucket':bucket_name,\n",
        "                                       'Name':file_name\n",
        "                                       }\n",
        "                                 }\n",
        "\n",
        "                               )\n",
        "  faceIds.append(response['FaceRecords'][0]['Face']['FaceId'])\n",
        "faceIds"
      ]
    },
    {
      "cell_type": "code",
      "execution_count": null,
      "metadata": {
        "id": "DCEaYojvvBS5"
      },
      "outputs": [],
      "source": [
        "response=client.associate_faces(\n",
        "    CollectionId='user-faces',\n",
        "    UserId='nicolas-cage',\n",
        "    FaceIds=faceIds\n",
        ")"
      ]
    },
    {
      "cell_type": "code",
      "execution_count": null,
      "metadata": {
        "id": "2gA2Qhg0vriz"
      },
      "outputs": [],
      "source": [
        "response=client.search_faces_by_image(\n",
        "     Image={\n",
        "                                   'S3Object':{\n",
        "                                       'Bucket':bucket_name,\n",
        "                                       'Name':'nic4.png'\n",
        "                                   }\n",
        "     },\n",
        "    CollectionId='user-faces'\n",
        ")"
      ]
    },
    {
      "cell_type": "code",
      "execution_count": null,
      "metadata": {
        "colab": {
          "base_uri": "https://localhost:8080/"
        },
        "id": "9KWl_fzi7a9D",
        "outputId": "36fcefb7-29ae-4d60-829f-eacec32ba8f3"
      },
      "outputs": [
        {
          "data": {
            "text/plain": [
              "{'SearchedFaceBoundingBox': {'Width': 0.4799571931362152,\n",
              "  'Height': 0.45555803179740906,\n",
              "  'Left': 0.24742986261844635,\n",
              "  'Top': 0.17509520053863525},\n",
              " 'SearchedFaceConfidence': 99.9996566772461,\n",
              " 'FaceMatches': [{'Similarity': 99.99962615966797,\n",
              "   'Face': {'FaceId': 'efea902b-bb70-4909-8cfd-a0c5f59ad6c8',\n",
              "    'BoundingBox': {'Width': 0.4293079972267151,\n",
              "     'Height': 0.4860459864139557,\n",
              "     'Left': 0.27021700143814087,\n",
              "     'Top': 0.18169599771499634},\n",
              "    'ImageId': '57e03d4f-9006-34e0-abd3-dfd35d5f4c9e',\n",
              "    'Confidence': 99.99930572509766,\n",
              "    'IndexFacesModelVersion': '7.0'}},\n",
              "  {'Similarity': 99.99945831298828,\n",
              "   'Face': {'FaceId': '287842e2-b689-49af-bb06-8120c22fcc91',\n",
              "    'BoundingBox': {'Width': 0.5695030093193054,\n",
              "     'Height': 0.5277789831161499,\n",
              "     'Left': 0.22421999275684357,\n",
              "     'Top': 0.18140099942684174},\n",
              "    'ImageId': '4db2a529-d34d-37a0-a181-75aa9dd2a3c2',\n",
              "    'Confidence': 99.99949645996094,\n",
              "    'IndexFacesModelVersion': '7.0'}},\n",
              "  {'Similarity': 99.99595642089844,\n",
              "   'Face': {'FaceId': '0b7b78da-c9b5-41ac-950d-adb0397691cb',\n",
              "    'BoundingBox': {'Width': 0.19426900148391724,\n",
              "     'Height': 0.4329319894313812,\n",
              "     'Left': 0.31736400723457336,\n",
              "     'Top': 0.14461100101470947},\n",
              "    'ImageId': '64f5a3f1-bdea-3d59-918d-02077e28f431',\n",
              "    'Confidence': 99.99960327148438,\n",
              "    'IndexFacesModelVersion': '7.0'}}],\n",
              " 'FaceModelVersion': '7.0',\n",
              " 'ResponseMetadata': {'RequestId': '89fc6727-0e63-4ba2-97b4-612f63fb892e',\n",
              "  'HTTPStatusCode': 200,\n",
              "  'HTTPHeaders': {'x-amzn-requestid': '89fc6727-0e63-4ba2-97b4-612f63fb892e',\n",
              "   'content-type': 'application/x-amz-json-1.1',\n",
              "   'content-length': '1197',\n",
              "   'date': 'Sun, 24 Mar 2024 19:26:34 GMT'},\n",
              "  'RetryAttempts': 0}}"
            ]
          },
          "execution_count": 22,
          "metadata": {},
          "output_type": "execute_result"
        }
      ],
      "source": [
        "response"
      ]
    },
    {
      "cell_type": "code",
      "execution_count": null,
      "metadata": {
        "id": "_9QImTTywNzI"
      },
      "outputs": [],
      "source": [
        "face_id_max_similarity=response['FaceMatches'][0]['Face']['FaceId']"
      ]
    },
    {
      "cell_type": "code",
      "execution_count": null,
      "metadata": {
        "id": "bckIZ19uwbgK"
      },
      "outputs": [],
      "source": [
        "response=client.search_users(\n",
        "    FaceId=face_id_max_similarity,\n",
        "    CollectionId='user-faces'\n",
        ")"
      ]
    },
    {
      "cell_type": "code",
      "execution_count": null,
      "metadata": {
        "colab": {
          "base_uri": "https://localhost:8080/"
        },
        "id": "QZtP5y_D5X6f",
        "outputId": "a085ffbe-7465-4d45-eba1-469beb46a106"
      },
      "outputs": [
        {
          "data": {
            "text/plain": [
              "{'UserMatches': [{'Similarity': 99.99998474121094,\n",
              "   'User': {'UserId': 'nicolas-cage', 'UserStatus': 'ACTIVE'}}],\n",
              " 'FaceModelVersion': '7',\n",
              " 'SearchedFace': {'FaceId': 'efea902b-bb70-4909-8cfd-a0c5f59ad6c8'},\n",
              " 'ResponseMetadata': {'RequestId': 'bda37109-6a46-4fab-a5ca-e895ebe92acf',\n",
              "  'HTTPStatusCode': 200,\n",
              "  'HTTPHeaders': {'x-amzn-requestid': 'bda37109-6a46-4fab-a5ca-e895ebe92acf',\n",
              "   'content-type': 'application/x-amz-json-1.1',\n",
              "   'content-length': '193',\n",
              "   'date': 'Sun, 24 Mar 2024 19:25:09 GMT'},\n",
              "  'RetryAttempts': 0}}"
            ]
          },
          "execution_count": 13,
          "metadata": {},
          "output_type": "execute_result"
        }
      ],
      "source": [
        "response"
      ]
    },
    {
      "cell_type": "code",
      "execution_count": null,
      "metadata": {
        "colab": {
          "base_uri": "https://localhost:8080/"
        },
        "id": "1dG95bjB5V3u",
        "outputId": "c102d293-4d49-4e21-8529-38820b255b16"
      },
      "outputs": [
        {
          "name": "stdout",
          "output_type": "stream",
          "text": [
            "{'UserMatches': [{'Similarity': 99.99998474121094, 'User': {'UserId': 'nicolas-cage', 'UserStatus': 'ACTIVE'}}], 'FaceModelVersion': '7', 'SearchedFace': {'FaceId': 'efea902b-bb70-4909-8cfd-a0c5f59ad6c8'}, 'ResponseMetadata': {'RequestId': 'bda37109-6a46-4fab-a5ca-e895ebe92acf', 'HTTPStatusCode': 200, 'HTTPHeaders': {'x-amzn-requestid': 'bda37109-6a46-4fab-a5ca-e895ebe92acf', 'content-type': 'application/x-amz-json-1.1', 'content-length': '193', 'date': 'Sun, 24 Mar 2024 19:25:09 GMT'}, 'RetryAttempts': 0}}\n"
          ]
        }
      ],
      "source": [
        "# prompt: response\n",
        "\n",
        "print(response)\n"
      ]
    },
    {
      "cell_type": "code",
      "execution_count": null,
      "metadata": {
        "id": "Y2fHI5DZxH0i"
      },
      "outputs": [],
      "source": [
        "user_name=response['UserMatches'][0]['User']['UserId']"
      ]
    },
    {
      "cell_type": "code",
      "execution_count": null,
      "metadata": {
        "colab": {
          "base_uri": "https://localhost:8080/",
          "height": 35
        },
        "id": "qQZca45KxImm",
        "outputId": "920a6de5-f600-45cd-affa-82ce2271dc2a"
      },
      "outputs": [
        {
          "data": {
            "application/vnd.google.colaboratory.intrinsic+json": {
              "type": "string"
            },
            "text/plain": [
              "'nicolas-cage'"
            ]
          },
          "execution_count": 16,
          "metadata": {},
          "output_type": "execute_result"
        }
      ],
      "source": [
        "user_name"
      ]
    },
    {
      "cell_type": "code",
      "execution_count": null,
      "metadata": {
        "id": "NvEraS27xZgw"
      },
      "outputs": [],
      "source": [
        "def connect_aws():\n",
        "  aws_access_key_id=config.aws_access_key_id\n",
        "  aws_secret_access_key=config.aws_secret_access_key\n",
        "  session=boto3.Session(aws_access_key_id=aws_access_key_id,aws_secret_access_key=aws_secret_access_key)\n",
        "  return session\n",
        "\n",
        "\n",
        "def recognize_user(image):\n",
        "  \"\"\"\n",
        "  Retorna nome do usuário de uma imagem\n",
        "  Variavel\n",
        "  image: imagem em bytes\n",
        "  retorna str\n",
        "  \"\"\"\n",
        "  #Conecta com AWS\n",
        "  session=connect_aws()\n",
        "  #aBRINDO CLINETE\n",
        "  client=session.client('rekognition',region_name='us-east-2')\n",
        "  #Obtendo dados da imagem\n",
        "  response=client.search_faces_by_image(\n",
        "     Image={'Bytes': image\n",
        "     },\n",
        "    CollectionId='user-faces'\n",
        "  )\n",
        "  #Obtendo face_id com maior similaridade\n",
        "  face_id_max_similarity=response['FaceMatches'][0]['Face']['FaceId']\n",
        "  #Obtendo User de com maior similaridade\n",
        "  response=client.search_users(\n",
        "    FaceId=face_id_max_similarity,\n",
        "    CollectionId='user-faces'\n",
        "  )\n",
        "  #Retorna nome do usuário\n",
        "  return response['UserMatches'][0]['User']['UserId']\n",
        "\n",
        "def count_faces(img):\n",
        "  \"\"\"\n",
        "  Função que conta numero de pessoas\n",
        "  variavel\n",
        "  img - Imagem em bytes\n",
        "  retorna número de imagens\n",
        "  \"\"\"\n",
        "  #Conecta com AWS\n",
        "  session=connect_aws()\n",
        "  #aBRINDO CLINETE\n",
        "  client=session.client('rekognition',region_name='us-east-2')\n",
        "  #Criando requisição\n",
        "  response=client.detect_faces(\n",
        "      Image={'Bytes':img}\n",
        "      # Attributes=['All']\n",
        "  )\n",
        "  #Contando numero de pessoas\n",
        "  n= len(n['FaceDetails'])\n",
        "  return n\n",
        "\n"
      ]
    },
    {
      "cell_type": "code",
      "execution_count": 3,
      "metadata": {
        "id": "Iqonro4I4wki"
      },
      "outputs": [],
      "source": [
        "path='C:\\\\Users\\\\alber\\\\Documents\\\\Projetos - Dados\\\\fiap_cognitive_enviroment_liveness\\\\notebooks\\\\Cadastro\\\\imgs'\n",
        "with open(f'{path}/nic4.png', \"rb\") as file:\n",
        "  img_file = file.read()\n",
        "  bytes_file_target = bytearray(img_file)"
      ]
    },
    {
      "cell_type": "code",
      "execution_count": null,
      "metadata": {
        "colab": {
          "base_uri": "https://localhost:8080/",
          "height": 271
        },
        "id": "TLFQWefw48df",
        "outputId": "d7b7936c-d76a-4b5c-9c8e-780bc1058aa1"
      },
      "outputs": [
        {
          "ename": "IndexError",
          "evalue": "list index out of range",
          "output_type": "error",
          "traceback": [
            "\u001b[0;31m---------------------------------------------------------------------------\u001b[0m",
            "\u001b[0;31mIndexError\u001b[0m                                Traceback (most recent call last)",
            "\u001b[0;32m<ipython-input-50-abfedee94896>\u001b[0m in \u001b[0;36m<cell line: 1>\u001b[0;34m()\u001b[0m\n\u001b[0;32m----> 1\u001b[0;31m \u001b[0mrecognize_user\u001b[0m\u001b[0;34m(\u001b[0m\u001b[0mbytes_file_target\u001b[0m\u001b[0;34m)\u001b[0m\u001b[0;34m\u001b[0m\u001b[0;34m\u001b[0m\u001b[0m\n\u001b[0m",
            "\u001b[0;32m<ipython-input-49-ae78c818b195>\u001b[0m in \u001b[0;36mrecognize_user\u001b[0;34m(image)\u001b[0m\n\u001b[1;32m     24\u001b[0m   )\n\u001b[1;32m     25\u001b[0m   \u001b[0;31m#Obtendo face_id com maior similaridade\u001b[0m\u001b[0;34m\u001b[0m\u001b[0;34m\u001b[0m\u001b[0m\n\u001b[0;32m---> 26\u001b[0;31m   \u001b[0mface_id_max_similarity\u001b[0m\u001b[0;34m=\u001b[0m\u001b[0mresponse\u001b[0m\u001b[0;34m[\u001b[0m\u001b[0;34m'FaceMatches'\u001b[0m\u001b[0;34m]\u001b[0m\u001b[0;34m[\u001b[0m\u001b[0;36m0\u001b[0m\u001b[0;34m]\u001b[0m\u001b[0;34m[\u001b[0m\u001b[0;34m'Face'\u001b[0m\u001b[0;34m]\u001b[0m\u001b[0;34m[\u001b[0m\u001b[0;34m'FaceId'\u001b[0m\u001b[0;34m]\u001b[0m\u001b[0;34m\u001b[0m\u001b[0;34m\u001b[0m\u001b[0m\n\u001b[0m\u001b[1;32m     27\u001b[0m   \u001b[0;31m#Obtendo User de com maior similaridade\u001b[0m\u001b[0;34m\u001b[0m\u001b[0;34m\u001b[0m\u001b[0m\n\u001b[1;32m     28\u001b[0m   response=client.search_users(\n",
            "\u001b[0;31mIndexError\u001b[0m: list index out of range"
          ]
        }
      ],
      "source": [
        "recognize_user(bytes_file_target)"
      ]
    },
    {
      "cell_type": "code",
      "execution_count": 4,
      "metadata": {
        "id": "9kAjGnDg5AlE"
      },
      "outputs": [
        {
          "ename": "NameError",
          "evalue": "name 'count_faces' is not defined",
          "output_type": "error",
          "traceback": [
            "\u001b[1;31m---------------------------------------------------------------------------\u001b[0m",
            "\u001b[1;31mNameError\u001b[0m                                 Traceback (most recent call last)",
            "Cell \u001b[1;32mIn[4], line 4\u001b[0m\n\u001b[0;32m      2\u001b[0m   img_file \u001b[38;5;241m=\u001b[39m file\u001b[38;5;241m.\u001b[39mread()\n\u001b[0;32m      3\u001b[0m   bytes_file_target \u001b[38;5;241m=\u001b[39m \u001b[38;5;28mbytearray\u001b[39m(img_file)\n\u001b[1;32m----> 4\u001b[0m n\u001b[38;5;241m=\u001b[39m\u001b[43mcount_faces\u001b[49m(bytes_file_target)\n",
            "\u001b[1;31mNameError\u001b[0m: name 'count_faces' is not defined"
          ]
        }
      ],
      "source": [
        "with open(f'{path}/selfie_oscar.jpg', \"rb\") as file:\n",
        "  img_file = file.read()\n",
        "  bytes_file_target = bytearray(img_file)\n",
        "n=count_faces(bytes_file_target)"
      ]
    },
    {
      "cell_type": "code",
      "execution_count": null,
      "metadata": {
        "id": "-XcUSzcz966s"
      },
      "outputs": [],
      "source": []
    }
  ],
  "metadata": {
    "colab": {
      "provenance": []
    },
    "kernelspec": {
      "display_name": "Python 3",
      "name": "python3"
    },
    "language_info": {
      "codemirror_mode": {
        "name": "ipython",
        "version": 3
      },
      "file_extension": ".py",
      "mimetype": "text/x-python",
      "name": "python",
      "nbconvert_exporter": "python",
      "pygments_lexer": "ipython3",
      "version": "3.11.7"
    }
  },
  "nbformat": 4,
  "nbformat_minor": 0
}
