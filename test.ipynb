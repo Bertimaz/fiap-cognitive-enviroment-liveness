import numpy as np
import matplotlib.pyplot as plt
from tensorflow import keras
from keras.models import Sequential,load_model
from keras.layers import Conv2D, MaxPooling2D, Flatten, Dense, Dropout, AveragePooling2D
from keras.utils import plot_model
from keras.utils import  to_categorical
from keras.layers import BatchNormalization
from PIL import Image